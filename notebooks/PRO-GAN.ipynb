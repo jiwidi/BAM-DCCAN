{
 "cells": [
  {
   "cell_type": "code",
   "execution_count": null,
   "metadata": {},
   "outputs": [],
   "source": [
    "import torch as th\n",
    "import torchvision as tv\n",
    "import pro_gan_pytorch.PRO_GAN as pg\n",
    "\n",
    "# select the device to be used for training\n",
    "device = th.device(\"cuda\" if th.cuda.is_available() else \"cpu\")\n",
    "data_path = \"cifar-10/\"\n",
    "\n",
    "def setup_data(download=False):\n",
    "    \"\"\"\n",
    "    setup the CIFAR-10 dataset for training the CNN\n",
    "    :param batch_size: batch_size for sgd\n",
    "    :param num_workers: num_readers for data reading\n",
    "    :param download: Boolean for whether to download the data\n",
    "    :return: classes, trainloader, testloader => training and testing data loaders\n",
    "    \"\"\"\n",
    "    # data setup:\n",
    "    classes = ('plane', 'car', 'bird', 'cat', 'deer',\n",
    "               'dog', 'frog', 'horse', 'ship', 'truck')\n",
    "\n",
    "    transforms = tv.transforms.ToTensor()\n",
    "\n",
    "    trainset = tv.datasets.CIFAR10(root=data_path,\n",
    "                                   transform=transforms,\n",
    "                                   download=download)\n",
    "\n",
    "    testset = tv.datasets.CIFAR10(root=data_path,\n",
    "                                  transform=transforms, train=False,\n",
    "                                  download=False)\n",
    "\n",
    "    return classes, trainset, testset\n",
    "\n",
    "\n",
    "if __name__ == '__main__':\n",
    "\n",
    "    # some parameters:\n",
    "    depth = 6\n",
    "    # hyper-parameters per depth (resolution)\n",
    "    num_epochs = [10, 20, 20, 20]\n",
    "    fade_ins = [50, 50, 50, 50]\n",
    "    batch_sizes = [128, 128, 128, 128]\n",
    "    latent_size = 128\n",
    "\n",
    "    # get the data. Ignore the test data and their classes\n",
    "    _, dataset, _ = setup_data(download=True)\n",
    "\n",
    "    # ======================================================================\n",
    "    # This line creates the PRO-GAN\n",
    "    # ======================================================================\n",
    "    pro_gan = pg.ConditionalProGAN(num_classes=10, depth=depth, \n",
    "                                   latent_size=latent_size, device=device)\n",
    "    # ======================================================================\n",
    "\n",
    "    # ======================================================================\n",
    "    # This line trains the PRO-GAN\n",
    "    # ======================================================================\n",
    "    pro_gan.train(\n",
    "        dataset=dataset,\n",
    "        epochs=num_epochs,\n",
    "        fade_in_percentage=fade_ins,\n",
    "        batch_sizes=batch_sizes\n",
    "    )\n",
    "    # ======================================================================  "
   ]
  },
  {
   "cell_type": "code",
   "execution_count": 5,
   "metadata": {},
   "outputs": [
    {
     "name": "stdout",
     "output_type": "stream",
     "text": [
      "Files already downloaded and verified\n"
     ]
    }
   ],
   "source": [
    "_, dataset, _ = setup_data(download=True)"
   ]
  },
  {
   "cell_type": "code",
   "execution_count": 4,
   "metadata": {},
   "outputs": [],
   "source": [
    "from torchvision import transforms\n",
    "import torchvision\n",
    "TRANSFORM_IMG = transforms.Compose([\n",
    "    transforms.Resize(128),\n",
    "    #transforms.CenterCrop(256),\n",
    "    transforms.ToTensor(),\n",
    "    #transforms.ToPILImage(mode='RGB'),\n",
    "    transforms.Normalize(mean=[0.485, 0.456, 0.406],\n",
    "                         std=[0.229, 0.224, 0.225] )\n",
    "    ])\n",
    "TRAIN_DATA_PATH = '/home/jovyan/github/models/imagesProcessed/'\n",
    "train_data = torchvision.datasets.ImageFolder(root=TRAIN_DATA_PATH, transform=TRANSFORM_IMG)"
   ]
  },
  {
   "cell_type": "code",
   "execution_count": 5,
   "metadata": {},
   "outputs": [
    {
     "data": {
      "text/plain": [
       "['media_3d_graphics_procesed',\n",
       " 'media_comic_procesed',\n",
       " 'media_graphite_procesed',\n",
       " 'media_oilpaint_procesed',\n",
       " 'media_pen_ink_procesed',\n",
       " 'media_vectorart_procesed',\n",
       " 'media_watercolor_procesed']"
      ]
     },
     "execution_count": 5,
     "metadata": {},
     "output_type": "execute_result"
    }
   ],
   "source": [
    "train_data.classes"
   ]
  },
  {
   "cell_type": "code",
   "execution_count": 3,
   "metadata": {},
   "outputs": [
    {
     "ename": "NameError",
     "evalue": "name 'trainset' is not defined",
     "output_type": "error",
     "traceback": [
      "\u001b[0;31m---------------------------------------------------------------------------\u001b[0m",
      "\u001b[0;31mNameError\u001b[0m                                 Traceback (most recent call last)",
      "\u001b[0;32m<ipython-input-3-04fc83801278>\u001b[0m in \u001b[0;36m<module>\u001b[0;34m\u001b[0m\n\u001b[0;32m----> 1\u001b[0;31m \u001b[0mtrainset\u001b[0m\u001b[0;34m.\u001b[0m\u001b[0mclasses\u001b[0m\u001b[0;34m\u001b[0m\u001b[0;34m\u001b[0m\u001b[0m\n\u001b[0m",
      "\u001b[0;31mNameError\u001b[0m: name 'trainset' is not defined"
     ]
    }
   ],
   "source": [
    "trainset.classes"
   ]
  },
  {
   "cell_type": "code",
   "execution_count": null,
   "metadata": {},
   "outputs": [],
   "source": [
    "import torch as th\n",
    "import torchvision as tv\n",
    "import pro_gan_pytorch.PRO_GAN as pg\n",
    "\n",
    "from torchvision import transforms\n",
    "import torchvision\n",
    "\n",
    "TRAIN_DATA_PATH = '/home/jovyan/github/models/BAM-DCGAN/data/dataset_updated/training_set/'\n",
    "\n",
    "# select the device to be used for training\n",
    "device = th.device(\"cuda\" if th.cuda.is_available() else \"cpu\")\n",
    "\n",
    "def setup_data(download=False):\n",
    "    \"\"\"\n",
    "    setup the CIFAR-10 dataset for training the CNN\n",
    "    :param batch_size: batch_size for sgd\n",
    "    :param num_workers: num_readers for data reading\n",
    "    :param download: Boolean for whether to download the data\n",
    "    :return: classes, trainloader, testloader => training and testing data loaders\n",
    "    \"\"\"\n",
    "    # data setup:\n",
    "    TRANSFORM_IMG = transforms.Compose([\n",
    "        transforms.Resize((32,32)),\n",
    "        #transforms.CenterCrop(256),\n",
    "        transforms.ToTensor(),\n",
    "        #transforms.ToPILImage(mode='RGB'),\n",
    "        transforms.Normalize((0.5, 0.5, 0.5), (0.5, 0.5, 0.5))\n",
    "    ])\n",
    "\n",
    "    trainset = torchvision.datasets.ImageFolder(root=TRAIN_DATA_PATH, transform=TRANSFORM_IMG)\n",
    "    \n",
    "    testset = torchvision.datasets.ImageFolder(root=TRAIN_DATA_PATH, transform=TRANSFORM_IMG)\n",
    "    \n",
    "    classes = trainset.classes\n",
    "\n",
    "    return classes, trainset, testset\n",
    "\n",
    "\n",
    "if __name__ == '__main__':\n",
    "\n",
    "    # some parameters:\n",
    "    depth = 4\n",
    "    # hyper-parameters per depth (resolution)\n",
    "    num_epochs = [10, 20, 20, 20]\n",
    "    fade_ins = [50, 50, 50, 50]\n",
    "    batch_sizes = [32, 32, 32, 32]\n",
    "    latent_size = 128\n",
    "\n",
    "    # get the data. Ignore the test data and their classes\n",
    "    _, dataset, _ = setup_data(download=True)\n",
    "\n",
    "    # ======================================================================\n",
    "    # This line creates the PRO-GAN\n",
    "    # ======================================================================\n",
    "    pro_gan = pg.ConditionalProGAN(num_classes=len(dataset.classes), depth=depth, \n",
    "                                   latent_size=latent_size, device=device)\n",
    "    # ======================================================================\n",
    "\n",
    "    # ======================================================================\n",
    "    # This line trains the PRO-GAN\n",
    "    # ======================================================================\n",
    "    pro_gan.train(\n",
    "        dataset=dataset,\n",
    "        epochs=num_epochs,\n",
    "        fade_in_percentage=fade_ins,\n",
    "        batch_sizes=batch_sizes,\n",
    "        feedback_factor=1\n",
    "    )\n",
    "    # ======================================================================  "
   ]
  },
  {
   "cell_type": "code",
   "execution_count": null,
   "metadata": {},
   "outputs": [],
   "source": []
  }
 ],
 "metadata": {
  "kernelspec": {
   "display_name": "Python 3",
   "language": "python",
   "name": "python3"
  },
  "language_info": {
   "codemirror_mode": {
    "name": "ipython",
    "version": 3
   },
   "file_extension": ".py",
   "mimetype": "text/x-python",
   "name": "python",
   "nbconvert_exporter": "python",
   "pygments_lexer": "ipython3",
   "version": "3.6.7"
  }
 },
 "nbformat": 4,
 "nbformat_minor": 2
}
