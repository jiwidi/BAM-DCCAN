{
 "cells": [
  {
   "cell_type": "code",
   "execution_count": null,
   "metadata": {},
   "outputs": [],
   "source": [
    "import sqlite3\n",
    "import pandas as pd\n",
    "import multiprocessing\n",
    "from multiprocessing import Pool\n",
    "import scipy\n",
    "import requests\n",
    "import os"
   ]
  },
  {
   "cell_type": "markdown",
   "metadata": {},
   "source": [
    "# Data"
   ]
  },
  {
   "cell_type": "code",
   "execution_count": 2,
   "metadata": {},
   "outputs": [],
   "source": [
    "#Establish connection with our database\n",
    "dat = sqlite3.connect('/home/jovyan/github/models/research/gan/20170509-bam-2.2m-Nja9G.sqlite') #connected to database with out error\n",
    "\n",
    "#Querys \n",
    "dfSOURCE = pd.read_sql_query(\"SELECT * FROM modules\", dat)\n",
    "dfSCORES = pd.read_sql_query(\"SELECT * FROM scores\", dat)\n",
    "\n",
    "#Categorial values we will store, paintType emotion and content\n",
    "paintType=['media_oilpaint','media_3d_graphics','media_pen_ink','media_comic'\n",
    "           ,'media_vectorart','media_graphite','media_watercolor']\n",
    "\n",
    "emotion=['emotion_gloomy','emotion_happy','emotion_peaceful','emotion_scary']\n",
    "content=['content_bicycle','content_bird','content_building','content_cars','content_cat','content_dog','content_flower','content_people','content_tree']\n",
    "\n",
    "#Store the categorical value that defines each img\n",
    "\n",
    "dfSCORES['paintType']=dfSCORES[paintType].idxmax(axis=1)\n",
    "dfSCORES['emotion']=dfSCORES[emotion].idxmax(axis=1)\n",
    "dfSCORES['content']=dfSCORES[content].idxmax(axis=1)\n",
    "\n",
    "dfSCORES['TOPpaintType']= dfSCORES[paintType].max(axis=1)\n",
    "dfSCORES['TOPemotion']=dfSCORES[emotion].max(axis=1)\n",
    "dfSCORES['TOPcontent']=dfSCORES[content].max(axis=1)\n",
    "\n",
    "\n",
    "listC=['mid','paintType','emotion','content','TOPcontent','TOPemotion','TOPpaintType']"
   ]
  },
  {
   "cell_type": "code",
   "execution_count": 3,
   "metadata": {},
   "outputs": [],
   "source": [
    "df=pd.merge(dfSOURCE, dfSCORES[listC], on =['mid'])\n",
    "df=df.loc[df['TOPpaintType'] >= -0.15]\n",
    "df = df.reset_index(drop=True)\n",
    "listC=['mid','src','paintType','emotion','content']\n",
    "df=df[listC]\n",
    "df = df.reset_index(drop=True)"
   ]
  },
  {
   "cell_type": "code",
   "execution_count": 4,
   "metadata": {},
   "outputs": [],
   "source": [
    "#df = df.loc[df['paintType'] == 'media_watercolor']\n",
    "df = df.reset_index(drop=True)"
   ]
  },
  {
   "cell_type": "code",
   "execution_count": null,
   "metadata": {},
   "outputs": [],
   "source": [
    "\n",
    "for type in paintType:\n",
    "    if not os.path.exists(type):\n",
    "        os.mkdir(type)\n",
    "\n",
    "path = '/home/jovyan/github/models/BAM-DCGAN/data/images/'   \n",
    "def downloadFromSrc(u):\n",
    "    row = df.loc[u]\n",
    "    imgClass = path+row['paintType'] + '/'\n",
    "    url = row['src']\n",
    "    filename = imgClass+str(u)+'.jpg'\n",
    "    result = requests.get(url, stream=True)\n",
    "    if result.status_code == 200:\n",
    "        if not os.path.exists(imgClass):\n",
    "            os.mkdir(imgClass)\n",
    "        image = result.raw.read()\n",
    "        #image = scipy.misc.imresize(arr=image,size=(128,128))\n",
    "        open(filename,\"wb\").write(image)\n",
    "\n",
    "pool = Pool()\n",
    "pool.map(downloadFromSrc, range(len(df))) "
   ]
  },
  {
   "cell_type": "markdown",
   "metadata": {},
   "source": [
    "# Run this to resize all images to 128"
   ]
  },
  {
   "cell_type": "code",
   "execution_count": 1,
   "metadata": {},
   "outputs": [
    {
     "name": "stdout",
     "output_type": "stream",
     "text": [
      "Starting\n",
      "Starting\n",
      "Starting\n",
      "Starting\n",
      "Starting\n",
      "Starting\n",
      "Starting\n",
      "Starting\n",
      "DONE\n"
     ]
    },
    {
     "name": "stderr",
     "output_type": "stream",
     "text": [
      "/opt/conda/lib/python3.6/site-packages/PIL/Image.py:953: UserWarning: Palette images with Transparency   expressed in bytes should be converted to RGBA images\n",
      "  'to RGBA images')\n"
     ]
    },
    {
     "name": "stdout",
     "output_type": "stream",
     "text": [
      "DONE\n",
      "DONE\n",
      "DONE\n",
      "DONE\n",
      "DONE\n",
      "DONE\n",
      "DONE\n"
     ]
    },
    {
     "data": {
      "text/plain": [
       "[None, None, None, None, None, None, None, None]"
      ]
     },
     "execution_count": 1,
     "metadata": {},
     "output_type": "execute_result"
    }
   ],
   "source": [
    "from PIL import Image\n",
    "import os, sys\n",
    "from multiprocessing import Pool\n",
    "path = '/home/jovyan/github/models/BAM-DCGAN/data/images/'\n",
    "dirs = os.listdir( path )\n",
    "\n",
    "def resize(path):\n",
    "    print(\"Starting\")\n",
    "    dirs = os.listdir( path )\n",
    "    for item in dirs:\n",
    "        \n",
    "        if os.path.isfile(path+item) and item!='procesed':\n",
    "            try:\n",
    "                im = Image.open(path+item)\n",
    "                f, e = os.path.splitext(path+item)\n",
    "                imResize = im.resize((128,128), Image.ANTIALIAS).convert('RGB')\n",
    "                if not os.path.exists(path[:-1]+'_procesed/'):\n",
    "                    os.makedirs(path[:-1]+'_procesed/')\n",
    "                imResize.save(path[:-1]+'_procesed/'+item, 'JPEG', quality=100)\n",
    "            except:\n",
    "                pass\n",
    "    print(\"DONE\")\n",
    "\n",
    "#resize()\n",
    "ls = [path+o+'/' for o in os.listdir(path)]\n",
    "pool = Pool()\n",
    "pool.map(resize,ls)"
   ]
  },
  {
   "cell_type": "code",
   "execution_count": null,
   "metadata": {},
   "outputs": [],
   "source": []
  }
 ],
 "metadata": {
  "kernelspec": {
   "display_name": "Python 3",
   "language": "python",
   "name": "python3"
  },
  "language_info": {
   "codemirror_mode": {
    "name": "ipython",
    "version": 3
   },
   "file_extension": ".py",
   "mimetype": "text/x-python",
   "name": "python",
   "nbconvert_exporter": "python",
   "pygments_lexer": "ipython3",
   "version": "3.6.7"
  }
 },
 "nbformat": 4,
 "nbformat_minor": 2
}
