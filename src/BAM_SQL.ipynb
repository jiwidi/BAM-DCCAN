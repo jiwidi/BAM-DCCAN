{
 "cells": [
  {
   "cell_type": "code",
   "execution_count": 2,
   "metadata": {},
   "outputs": [],
   "source": [
    "import pandas as pd\n",
    "import sqlite3"
   ]
  },
  {
   "cell_type": "code",
   "execution_count": 3,
   "metadata": {},
   "outputs": [],
   "source": [
    "#Establish connection with our database\n",
    "dat = sqlite3.connect('20170509-bam-2.2m-Nja9G.sqlite') #connected to database with out error\n",
    "\n",
    "#Querys \n",
    "dfSOURCE = pd.read_sql_query(\"SELECT * FROM modules\", dat)\n",
    "dfSCORES = pd.read_sql_query(\"SELECT * FROM scores\", dat)\n",
    "\n",
    "#Categorial values we will store, paintType emotion and content\n",
    "paintType=['media_oilpaint','media_3d_graphics','media_pen_ink','media_comic'\n",
    "           ,'media_vectorart','media_graphite','media_watercolor']\n",
    "\n",
    "emotion=['emotion_gloomy','emotion_happy','emotion_peaceful','emotion_scary']\n",
    "content=['content_bicycle','content_bird','content_building','content_cars','content_cat','content_dog','content_flower','content_people','content_tree']\n",
    "\n",
    "#Store the categorical value that defines each img\n",
    "\n",
    "dfSCORES['paintType']=dfSCORES[paintType].idxmax(axis=1)\n",
    "dfSCORES['emotion']=dfSCORES[emotion].idxmax(axis=1)\n",
    "dfSCORES['content']=dfSCORES[content].idxmax(axis=1)\n",
    "\n",
    "dfSCORES['TOPpaintType']= dfSCORES[paintType].max(axis=1)\n",
    "dfSCORES['TOPemotion']=dfSCORES[emotion].max(axis=1)\n",
    "dfSCORES['TOPcontent']=dfSCORES[content].max(axis=1)\n",
    "\n",
    "\n",
    "listC=['mid','paintType','emotion','content','TOPcontent','TOPemotion','TOPpaintType']\n",
    "df=pd.merge(dfSOURCE, dfSCORES[listC], on =['mid'])"
   ]
  },
  {
   "cell_type": "code",
   "execution_count": 4,
   "metadata": {},
   "outputs": [
    {
     "data": {
      "text/html": [
       "<div>\n",
       "<style scoped>\n",
       "    .dataframe tbody tr th:only-of-type {\n",
       "        vertical-align: middle;\n",
       "    }\n",
       "\n",
       "    .dataframe tbody tr th {\n",
       "        vertical-align: top;\n",
       "    }\n",
       "\n",
       "    .dataframe thead th {\n",
       "        text-align: right;\n",
       "    }\n",
       "</style>\n",
       "<table border=\"1\" class=\"dataframe\">\n",
       "  <thead>\n",
       "    <tr style=\"text-align: right;\">\n",
       "      <th></th>\n",
       "      <th>mid</th>\n",
       "      <th>project_id</th>\n",
       "      <th>src</th>\n",
       "      <th>mature_content</th>\n",
       "      <th>license</th>\n",
       "      <th>paintType</th>\n",
       "      <th>emotion</th>\n",
       "      <th>content</th>\n",
       "      <th>TOPcontent</th>\n",
       "      <th>TOPemotion</th>\n",
       "      <th>TOPpaintType</th>\n",
       "    </tr>\n",
       "  </thead>\n",
       "  <tbody>\n",
       "    <tr>\n",
       "      <th>0</th>\n",
       "      <td>125829121</td>\n",
       "      <td>18589705</td>\n",
       "      <td>https://mir-s3-cdn-cf.behance.net/project_modu...</td>\n",
       "      <td>0.0</td>\n",
       "      <td>cc by-nc</td>\n",
       "      <td>media_oilpaint</td>\n",
       "      <td>emotion_happy</td>\n",
       "      <td>content_cars</td>\n",
       "      <td>-0.098892</td>\n",
       "      <td>-2.954691</td>\n",
       "      <td>-9.357111</td>\n",
       "    </tr>\n",
       "    <tr>\n",
       "      <th>1</th>\n",
       "      <td>34253483</td>\n",
       "      <td>4357109</td>\n",
       "      <td>https://mir-s3-cdn-cf.behance.net/project_modu...</td>\n",
       "      <td>0.0</td>\n",
       "      <td>cc by-nc-nd</td>\n",
       "      <td>media_oilpaint</td>\n",
       "      <td>emotion_happy</td>\n",
       "      <td>content_dog</td>\n",
       "      <td>-0.061217</td>\n",
       "      <td>-0.180663</td>\n",
       "      <td>-6.377277</td>\n",
       "    </tr>\n",
       "    <tr>\n",
       "      <th>2</th>\n",
       "      <td>88080407</td>\n",
       "      <td>7294129</td>\n",
       "      <td>https://mir-s3-cdn-cf.behance.net/project_modu...</td>\n",
       "      <td>0.0</td>\n",
       "      <td>cc by-nc-nd</td>\n",
       "      <td>media_vectorart</td>\n",
       "      <td>emotion_happy</td>\n",
       "      <td>content_people</td>\n",
       "      <td>-1.332626</td>\n",
       "      <td>-0.771889</td>\n",
       "      <td>-0.200894</td>\n",
       "    </tr>\n",
       "    <tr>\n",
       "      <th>3</th>\n",
       "      <td>16777240</td>\n",
       "      <td>2270370</td>\n",
       "      <td>https://mir-s3-cdn-cf.behance.net/project_modu...</td>\n",
       "      <td>0.0</td>\n",
       "      <td>cc by-nc-nd</td>\n",
       "      <td>media_comic</td>\n",
       "      <td>emotion_happy</td>\n",
       "      <td>content_people</td>\n",
       "      <td>-1.213955</td>\n",
       "      <td>-0.622210</td>\n",
       "      <td>-0.094686</td>\n",
       "    </tr>\n",
       "    <tr>\n",
       "      <th>4</th>\n",
       "      <td>62914589</td>\n",
       "      <td>8359181</td>\n",
       "      <td>https://mir-s3-cdn-cf.behance.net/project_modu...</td>\n",
       "      <td>0.0</td>\n",
       "      <td>cc by-nc-nd</td>\n",
       "      <td>media_pen_ink</td>\n",
       "      <td>emotion_gloomy</td>\n",
       "      <td>content_building</td>\n",
       "      <td>-1.464100</td>\n",
       "      <td>-0.186630</td>\n",
       "      <td>-3.132857</td>\n",
       "    </tr>\n",
       "  </tbody>\n",
       "</table>\n",
       "</div>"
      ],
      "text/plain": [
       "         mid  project_id                                                src  \\\n",
       "0  125829121    18589705  https://mir-s3-cdn-cf.behance.net/project_modu...   \n",
       "1   34253483     4357109  https://mir-s3-cdn-cf.behance.net/project_modu...   \n",
       "2   88080407     7294129  https://mir-s3-cdn-cf.behance.net/project_modu...   \n",
       "3   16777240     2270370  https://mir-s3-cdn-cf.behance.net/project_modu...   \n",
       "4   62914589     8359181  https://mir-s3-cdn-cf.behance.net/project_modu...   \n",
       "\n",
       "   mature_content      license        paintType         emotion  \\\n",
       "0             0.0     cc by-nc   media_oilpaint   emotion_happy   \n",
       "1             0.0  cc by-nc-nd   media_oilpaint   emotion_happy   \n",
       "2             0.0  cc by-nc-nd  media_vectorart   emotion_happy   \n",
       "3             0.0  cc by-nc-nd      media_comic   emotion_happy   \n",
       "4             0.0  cc by-nc-nd    media_pen_ink  emotion_gloomy   \n",
       "\n",
       "            content  TOPcontent  TOPemotion  TOPpaintType  \n",
       "0      content_cars   -0.098892   -2.954691     -9.357111  \n",
       "1       content_dog   -0.061217   -0.180663     -6.377277  \n",
       "2    content_people   -1.332626   -0.771889     -0.200894  \n",
       "3    content_people   -1.213955   -0.622210     -0.094686  \n",
       "4  content_building   -1.464100   -0.186630     -3.132857  "
      ]
     },
     "execution_count": 4,
     "metadata": {},
     "output_type": "execute_result"
    }
   ],
   "source": [
    "df.head()"
   ]
  },
  {
   "cell_type": "code",
   "execution_count": 5,
   "metadata": {},
   "outputs": [
    {
     "data": {
      "text/plain": [
       "array([[88080407, 7294129,\n",
       "        'https://mir-s3-cdn-cf.behance.net/project_modules/disp/7fff587294129.562669fd41592.jpg',\n",
       "        0.0, 'cc by-nc-nd', 'media_vectorart', 'emotion_happy',\n",
       "        'content_people', -1.3326259851455688, -0.7718894481658936,\n",
       "        -0.200894296169281]], dtype=object)"
      ]
     },
     "execution_count": 5,
     "metadata": {},
     "output_type": "execute_result"
    }
   ],
   "source": [
    "df.loc[df['mid']==88080407].values\n"
   ]
  },
  {
   "cell_type": "code",
   "execution_count": 6,
   "metadata": {},
   "outputs": [
    {
     "data": {
      "text/plain": [
       "<matplotlib.axes._subplots.AxesSubplot at 0x132143b70>"
      ]
     },
     "execution_count": 6,
     "metadata": {},
     "output_type": "execute_result"
    }
   ],
   "source": [
    "df=df.loc[df['TOPpaintType'] >= -1]\n",
    "df=df.loc[df['TOPpaintType'] < 0]\n",
    "df['paintType'].value_counts().plot(kind='bar')"
   ]
  },
  {
   "cell_type": "code",
   "execution_count": 92,
   "metadata": {},
   "outputs": [
    {
     "data": {
      "text/html": [
       "<div>\n",
       "<style scoped>\n",
       "    .dataframe tbody tr th:only-of-type {\n",
       "        vertical-align: middle;\n",
       "    }\n",
       "\n",
       "    .dataframe tbody tr th {\n",
       "        vertical-align: top;\n",
       "    }\n",
       "\n",
       "    .dataframe thead th {\n",
       "        text-align: right;\n",
       "    }\n",
       "</style>\n",
       "<table border=\"1\" class=\"dataframe\">\n",
       "  <thead>\n",
       "    <tr style=\"text-align: right;\">\n",
       "      <th></th>\n",
       "      <th>mid</th>\n",
       "      <th>project_id</th>\n",
       "      <th>src</th>\n",
       "      <th>mature_content</th>\n",
       "      <th>license</th>\n",
       "      <th>paintType</th>\n",
       "      <th>emotion</th>\n",
       "      <th>content</th>\n",
       "      <th>TOPcontent</th>\n",
       "      <th>TOPemotion</th>\n",
       "      <th>TOPpaintType</th>\n",
       "    </tr>\n",
       "  </thead>\n",
       "  <tbody>\n",
       "    <tr>\n",
       "      <th>2</th>\n",
       "      <td>88080407</td>\n",
       "      <td>7294129</td>\n",
       "      <td>https://mir-s3-cdn-cf.behance.net/project_modu...</td>\n",
       "      <td>0.0</td>\n",
       "      <td>cc by-nc-nd</td>\n",
       "      <td>media_vectorart</td>\n",
       "      <td>emotion_happy</td>\n",
       "      <td>content_people</td>\n",
       "      <td>-1.332626</td>\n",
       "      <td>-0.771889</td>\n",
       "      <td>-0.200894</td>\n",
       "    </tr>\n",
       "    <tr>\n",
       "      <th>3</th>\n",
       "      <td>16777240</td>\n",
       "      <td>2270370</td>\n",
       "      <td>https://mir-s3-cdn-cf.behance.net/project_modu...</td>\n",
       "      <td>0.0</td>\n",
       "      <td>cc by-nc-nd</td>\n",
       "      <td>media_comic</td>\n",
       "      <td>emotion_happy</td>\n",
       "      <td>content_people</td>\n",
       "      <td>-1.213955</td>\n",
       "      <td>-0.622210</td>\n",
       "      <td>-0.094686</td>\n",
       "    </tr>\n",
       "    <tr>\n",
       "      <th>7</th>\n",
       "      <td>165642275</td>\n",
       "      <td>25133993</td>\n",
       "      <td>https://mir-s3-cdn-cf.behance.net/project_modu...</td>\n",
       "      <td>0.0</td>\n",
       "      <td>cc by-nc</td>\n",
       "      <td>media_oilpaint</td>\n",
       "      <td>emotion_scary</td>\n",
       "      <td>content_people</td>\n",
       "      <td>-3.774166</td>\n",
       "      <td>-2.027744</td>\n",
       "      <td>-0.067937</td>\n",
       "    </tr>\n",
       "    <tr>\n",
       "      <th>13</th>\n",
       "      <td>44385137</td>\n",
       "      <td>5649529</td>\n",
       "      <td>https://mir-s3-cdn-cf.behance.net/project_modu...</td>\n",
       "      <td>0.0</td>\n",
       "      <td>cc by-nc-nd</td>\n",
       "      <td>media_vectorart</td>\n",
       "      <td>emotion_happy</td>\n",
       "      <td>content_bird</td>\n",
       "      <td>-0.374019</td>\n",
       "      <td>-0.475146</td>\n",
       "      <td>-0.375955</td>\n",
       "    </tr>\n",
       "    <tr>\n",
       "      <th>14</th>\n",
       "      <td>102848379</td>\n",
       "      <td>14954375</td>\n",
       "      <td>https://mir-s3-cdn-cf.behance.net/project_modu...</td>\n",
       "      <td>0.0</td>\n",
       "      <td>cc by-nc</td>\n",
       "      <td>media_watercolor</td>\n",
       "      <td>emotion_happy</td>\n",
       "      <td>content_people</td>\n",
       "      <td>-0.398193</td>\n",
       "      <td>-1.316395</td>\n",
       "      <td>-0.205539</td>\n",
       "    </tr>\n",
       "  </tbody>\n",
       "</table>\n",
       "</div>"
      ],
      "text/plain": [
       "          mid  project_id                                                src  \\\n",
       "2    88080407     7294129  https://mir-s3-cdn-cf.behance.net/project_modu...   \n",
       "3    16777240     2270370  https://mir-s3-cdn-cf.behance.net/project_modu...   \n",
       "7   165642275    25133993  https://mir-s3-cdn-cf.behance.net/project_modu...   \n",
       "13   44385137     5649529  https://mir-s3-cdn-cf.behance.net/project_modu...   \n",
       "14  102848379    14954375  https://mir-s3-cdn-cf.behance.net/project_modu...   \n",
       "\n",
       "    mature_content      license         paintType        emotion  \\\n",
       "2              0.0  cc by-nc-nd   media_vectorart  emotion_happy   \n",
       "3              0.0  cc by-nc-nd       media_comic  emotion_happy   \n",
       "7              0.0     cc by-nc    media_oilpaint  emotion_scary   \n",
       "13             0.0  cc by-nc-nd   media_vectorart  emotion_happy   \n",
       "14             0.0     cc by-nc  media_watercolor  emotion_happy   \n",
       "\n",
       "           content  TOPcontent  TOPemotion  TOPpaintType  \n",
       "2   content_people   -1.332626   -0.771889     -0.200894  \n",
       "3   content_people   -1.213955   -0.622210     -0.094686  \n",
       "7   content_people   -3.774166   -2.027744     -0.067937  \n",
       "13    content_bird   -0.374019   -0.475146     -0.375955  \n",
       "14  content_people   -0.398193   -1.316395     -0.205539  "
      ]
     },
     "execution_count": 92,
     "metadata": {},
     "output_type": "execute_result"
    }
   ],
   "source": [
    "df.head()"
   ]
  },
  {
   "cell_type": "code",
   "execution_count": 7,
   "metadata": {},
   "outputs": [
    {
     "data": {
      "text/plain": [
       "'https://mir-s3-cdn-cf.behance.net/project_modules/disp/7fff587294129.562669fd41592.jpg'"
      ]
     },
     "execution_count": 7,
     "metadata": {},
     "output_type": "execute_result"
    }
   ],
   "source": [
    "df = df.reset_index(drop=True)\n",
    "listC=['mid','src','paintType','emotion','content']\n",
    "df=df[listC]\n",
    "df.loc[0]['src']"
   ]
  },
  {
   "cell_type": "code",
   "execution_count": 52,
   "metadata": {},
   "outputs": [
    {
     "data": {
      "text/plain": [
       "<matplotlib.axes._subplots.AxesSubplot at 0x1114a52e8>"
      ]
     },
     "execution_count": 52,
     "metadata": {},
     "output_type": "execute_result"
    },
    {
     "data": {
      "image/png": "[encoded data removed]",
      "text/plain": [
       "<Figure size 432x288 with 1 Axes>"
      ]
     },
     "metadata": {},
     "output_type": "display_data"
    }
   ],
   "source": [
    "for u in paintType:\n",
    "    aux=df.loc[df['paintType'] == u]\n",
    "    samples=len(aux)-30000 \n",
    "    if(samples<0):\n",
    "        samples=0\n",
    "    df.drop(aux.sample(samples,replace=True).index,inplace=True)\n",
    "\n",
    "\n",
    "df['paintType'].value_counts().plot(kind='bar')"
   ]
  },
  {
   "cell_type": "code",
   "execution_count": 93,
   "metadata": {},
   "outputs": [],
   "source": [
    "df = df.reset_index(drop=True)"
   ]
  },
  {
   "cell_type": "code",
   "execution_count": 94,
   "metadata": {},
   "outputs": [
    {
     "data": {
      "text/plain": [
       "array([65837489, 8179437,\n",
       "       'https://mir-s3-cdn-cf.behance.net/project_modules/disp/01202c8179437.560c3bab76c3f.jpg',\n",
       "       0.0, 'cc by-nc-nd', 'media_watercolor', 'emotion_scary',\n",
       "       'content_people', -0.8239389061927795, -1.6682102680206299,\n",
       "       -0.15342605113983154], dtype=object)"
      ]
     },
     "execution_count": 94,
     "metadata": {},
     "output_type": "execute_result"
    }
   ],
   "source": [
    "df.loc[40].values"
   ]
  },
  {
   "cell_type": "code",
   "execution_count": 9,
   "metadata": {},
   "outputs": [
    {
     "data": {
      "text/plain": [
       "RangeIndex(start=0, stop=1020251, step=1)"
      ]
     },
     "execution_count": 9,
     "metadata": {},
     "output_type": "execute_result"
    }
   ],
   "source": [
    "df.index"
   ]
  },
  {
   "cell_type": "code",
   "execution_count": 13,
   "metadata": {},
   "outputs": [
    {
     "name": "stderr",
     "output_type": "stream",
     "text": [
      "Process ForkPoolWorker-5:\n",
      "Process ForkPoolWorker-8:\n",
      "Process ForkPoolWorker-7:\n",
      "Process ForkPoolWorker-4:\n",
      "Process ForkPoolWorker-6:\n",
      "Process ForkPoolWorker-3:\n",
      "Process ForkPoolWorker-2:\n",
      "Process ForkPoolWorker-1:\n",
      "Traceback (most recent call last):\n",
      "Traceback (most recent call last):\n",
      "Traceback (most recent call last):\n",
      "Traceback (most recent call last):\n",
      "Traceback (most recent call last):\n",
      "Traceback (most recent call last):\n",
      "  File \"/Users/jiwidi/anaconda3/lib/python3.6/multiprocessing/process.py\", line 258, in _bootstrap\n",
      "    self.run()\n",
      "  File \"/Users/jiwidi/anaconda3/lib/python3.6/multiprocessing/process.py\", line 258, in _bootstrap\n",
      "    self.run()\n",
      "  File \"/Users/jiwidi/anaconda3/lib/python3.6/multiprocessing/process.py\", line 258, in _bootstrap\n",
      "    self.run()\n",
      "  File \"/Users/jiwidi/anaconda3/lib/python3.6/multiprocessing/process.py\", line 258, in _bootstrap\n",
      "    self.run()\n",
      "  File \"/Users/jiwidi/anaconda3/lib/python3.6/multiprocessing/process.py\", line 258, in _bootstrap\n",
      "    self.run()\n",
      "  File \"/Users/jiwidi/anaconda3/lib/python3.6/multiprocessing/process.py\", line 258, in _bootstrap\n",
      "    self.run()\n",
      "Traceback (most recent call last):\n",
      "Traceback (most recent call last):\n",
      "  File \"/Users/jiwidi/anaconda3/lib/python3.6/multiprocessing/process.py\", line 93, in run\n",
      "    self._target(*self._args, **self._kwargs)\n",
      "  File \"/Users/jiwidi/anaconda3/lib/python3.6/multiprocessing/process.py\", line 93, in run\n",
      "    self._target(*self._args, **self._kwargs)\n",
      "  File \"/Users/jiwidi/anaconda3/lib/python3.6/multiprocessing/process.py\", line 93, in run\n",
      "    self._target(*self._args, **self._kwargs)\n",
      "  File \"/Users/jiwidi/anaconda3/lib/python3.6/multiprocessing/process.py\", line 93, in run\n",
      "    self._target(*self._args, **self._kwargs)\n",
      "  File \"/Users/jiwidi/anaconda3/lib/python3.6/multiprocessing/process.py\", line 93, in run\n",
      "    self._target(*self._args, **self._kwargs)\n",
      "  File \"/Users/jiwidi/anaconda3/lib/python3.6/multiprocessing/process.py\", line 93, in run\n",
      "    self._target(*self._args, **self._kwargs)\n",
      "  File \"/Users/jiwidi/anaconda3/lib/python3.6/multiprocessing/process.py\", line 258, in _bootstrap\n",
      "    self.run()\n",
      "  File \"/Users/jiwidi/anaconda3/lib/python3.6/multiprocessing/process.py\", line 258, in _bootstrap\n",
      "    self.run()\n",
      "  File \"/Users/jiwidi/anaconda3/lib/python3.6/multiprocessing/pool.py\", line 108, in worker\n",
      "    task = get()\n"
     ]
    },
    {
     "ename": "KeyboardInterrupt",
     "evalue": "",
     "output_type": "error",
     "traceback": [
      "\u001b[0;31m---------------------------------------------------------------------------\u001b[0m",
      "\u001b[0;31mKeyboardInterrupt\u001b[0m                         Traceback (most recent call last)",
      "\u001b[0;32m<ipython-input-13-99fe7fbf72dd>\u001b[0m in \u001b[0;36m<module>\u001b[0;34m()\u001b[0m\n\u001b[1;32m     20\u001b[0m \u001b[0;34m\u001b[0m\u001b[0m\n\u001b[1;32m     21\u001b[0m \u001b[0mpool\u001b[0m \u001b[0;34m=\u001b[0m \u001b[0mPool\u001b[0m\u001b[0;34m(\u001b[0m\u001b[0;34m)\u001b[0m\u001b[0;34m\u001b[0m\u001b[0m\n\u001b[0;32m---> 22\u001b[0;31m \u001b[0mpool\u001b[0m\u001b[0;34m.\u001b[0m\u001b[0mmap\u001b[0m\u001b[0;34m(\u001b[0m\u001b[0mdownloadFromSrc\u001b[0m\u001b[0;34m,\u001b[0m \u001b[0mrange\u001b[0m\u001b[0;34m(\u001b[0m\u001b[0mlen\u001b[0m\u001b[0;34m(\u001b[0m\u001b[0mdf\u001b[0m\u001b[0;34m)\u001b[0m\u001b[0;34m)\u001b[0m\u001b[0;34m)\u001b[0m\u001b[0;34m\u001b[0m\u001b[0m\n\u001b[0m\u001b[1;32m     23\u001b[0m \u001b[0;32mfor\u001b[0m \u001b[0mtype\u001b[0m \u001b[0;32min\u001b[0m \u001b[0mpaintType\u001b[0m\u001b[0;34m:\u001b[0m\u001b[0;34m\u001b[0m\u001b[0m\n\u001b[1;32m     24\u001b[0m     \u001b[0mprint\u001b[0m\u001b[0;34m(\u001b[0m\u001b[0;34m\"Images in {0}: {1}\"\u001b[0m\u001b[0;34m.\u001b[0m\u001b[0mformat\u001b[0m\u001b[0;34m(\u001b[0m\u001b[0mtype\u001b[0m\u001b[0;34m,\u001b[0m\u001b[0mlen\u001b[0m\u001b[0;34m(\u001b[0m\u001b[0mos\u001b[0m\u001b[0;34m.\u001b[0m\u001b[0mlistdir\u001b[0m\u001b[0;34m(\u001b[0m\u001b[0mtype\u001b[0m\u001b[0;34m+\u001b[0m\u001b[0;34m'/'\u001b[0m\u001b[0;34m)\u001b[0m\u001b[0;34m)\u001b[0m\u001b[0;34m)\u001b[0m\u001b[0;34m)\u001b[0m\u001b[0;34m\u001b[0m\u001b[0m\n",
      "\u001b[0;32m~/anaconda3/lib/python3.6/multiprocessing/pool.py\u001b[0m in \u001b[0;36mmap\u001b[0;34m(self, func, iterable, chunksize)\u001b[0m\n\u001b[1;32m    264\u001b[0m         \u001b[0;32min\u001b[0m \u001b[0ma\u001b[0m \u001b[0mlist\u001b[0m \u001b[0mthat\u001b[0m \u001b[0;32mis\u001b[0m \u001b[0mreturned\u001b[0m\u001b[0;34m.\u001b[0m\u001b[0;34m\u001b[0m\u001b[0m\n\u001b[1;32m    265\u001b[0m         '''\n\u001b[0;32m--> 266\u001b[0;31m         \u001b[0;32mreturn\u001b[0m \u001b[0mself\u001b[0m\u001b[0;34m.\u001b[0m\u001b[0m_map_async\u001b[0m\u001b[0;34m(\u001b[0m\u001b[0mfunc\u001b[0m\u001b[0;34m,\u001b[0m \u001b[0miterable\u001b[0m\u001b[0;34m,\u001b[0m \u001b[0mmapstar\u001b[0m\u001b[0;34m,\u001b[0m \u001b[0mchunksize\u001b[0m\u001b[0;34m)\u001b[0m\u001b[0;34m.\u001b[0m\u001b[0mget\u001b[0m\u001b[0;34m(\u001b[0m\u001b[0;34m)\u001b[0m\u001b[0;34m\u001b[0m\u001b[0m\n\u001b[0m\u001b[1;32m    267\u001b[0m \u001b[0;34m\u001b[0m\u001b[0m\n\u001b[1;32m    268\u001b[0m     \u001b[0;32mdef\u001b[0m \u001b[0mstarmap\u001b[0m\u001b[0;34m(\u001b[0m\u001b[0mself\u001b[0m\u001b[0;34m,\u001b[0m \u001b[0mfunc\u001b[0m\u001b[0;34m,\u001b[0m \u001b[0miterable\u001b[0m\u001b[0;34m,\u001b[0m \u001b[0mchunksize\u001b[0m\u001b[0;34m=\u001b[0m\u001b[0;32mNone\u001b[0m\u001b[0;34m)\u001b[0m\u001b[0;34m:\u001b[0m\u001b[0;34m\u001b[0m\u001b[0m\n",
      "\u001b[0;32m~/anaconda3/lib/python3.6/multiprocessing/pool.py\u001b[0m in \u001b[0;36mget\u001b[0;34m(self, timeout)\u001b[0m\n\u001b[1;32m    636\u001b[0m \u001b[0;34m\u001b[0m\u001b[0m\n\u001b[1;32m    637\u001b[0m     \u001b[0;32mdef\u001b[0m \u001b[0mget\u001b[0m\u001b[0;34m(\u001b[0m\u001b[0mself\u001b[0m\u001b[0;34m,\u001b[0m \u001b[0mtimeout\u001b[0m\u001b[0;34m=\u001b[0m\u001b[0;32mNone\u001b[0m\u001b[0;34m)\u001b[0m\u001b[0;34m:\u001b[0m\u001b[0;34m\u001b[0m\u001b[0m\n\u001b[0;32m--> 638\u001b[0;31m         \u001b[0mself\u001b[0m\u001b[0;34m.\u001b[0m\u001b[0mwait\u001b[0m\u001b[0;34m(\u001b[0m\u001b[0mtimeout\u001b[0m\u001b[0;34m)\u001b[0m\u001b[0;34m\u001b[0m\u001b[0m\n\u001b[0m\u001b[1;32m    639\u001b[0m         \u001b[0;32mif\u001b[0m \u001b[0;32mnot\u001b[0m \u001b[0mself\u001b[0m\u001b[0;34m.\u001b[0m\u001b[0mready\u001b[0m\u001b[0;34m(\u001b[0m\u001b[0;34m)\u001b[0m\u001b[0;34m:\u001b[0m\u001b[0;34m\u001b[0m\u001b[0m\n\u001b[1;32m    640\u001b[0m             \u001b[0;32mraise\u001b[0m \u001b[0mTimeoutError\u001b[0m\u001b[0;34m\u001b[0m\u001b[0m\n",
      "\u001b[0;32m~/anaconda3/lib/python3.6/multiprocessing/pool.py\u001b[0m in \u001b[0;36mwait\u001b[0;34m(self, timeout)\u001b[0m\n\u001b[1;32m    633\u001b[0m \u001b[0;34m\u001b[0m\u001b[0m\n\u001b[1;32m    634\u001b[0m     \u001b[0;32mdef\u001b[0m \u001b[0mwait\u001b[0m\u001b[0;34m(\u001b[0m\u001b[0mself\u001b[0m\u001b[0;34m,\u001b[0m \u001b[0mtimeout\u001b[0m\u001b[0;34m=\u001b[0m\u001b[0;32mNone\u001b[0m\u001b[0;34m)\u001b[0m\u001b[0;34m:\u001b[0m\u001b[0;34m\u001b[0m\u001b[0m\n\u001b[0;32m--> 635\u001b[0;31m         \u001b[0mself\u001b[0m\u001b[0;34m.\u001b[0m\u001b[0m_event\u001b[0m\u001b[0;34m.\u001b[0m\u001b[0mwait\u001b[0m\u001b[0;34m(\u001b[0m\u001b[0mtimeout\u001b[0m\u001b[0;34m)\u001b[0m\u001b[0;34m\u001b[0m\u001b[0m\n\u001b[0m\u001b[1;32m    636\u001b[0m \u001b[0;34m\u001b[0m\u001b[0m\n\u001b[1;32m    637\u001b[0m     \u001b[0;32mdef\u001b[0m \u001b[0mget\u001b[0m\u001b[0;34m(\u001b[0m\u001b[0mself\u001b[0m\u001b[0;34m,\u001b[0m \u001b[0mtimeout\u001b[0m\u001b[0;34m=\u001b[0m\u001b[0;32mNone\u001b[0m\u001b[0;34m)\u001b[0m\u001b[0;34m:\u001b[0m\u001b[0;34m\u001b[0m\u001b[0m\n",
      "\u001b[0;32m~/anaconda3/lib/python3.6/threading.py\u001b[0m in \u001b[0;36mwait\u001b[0;34m(self, timeout)\u001b[0m\n\u001b[1;32m    549\u001b[0m             \u001b[0msignaled\u001b[0m \u001b[0;34m=\u001b[0m \u001b[0mself\u001b[0m\u001b[0;34m.\u001b[0m\u001b[0m_flag\u001b[0m\u001b[0;34m\u001b[0m\u001b[0m\n\u001b[1;32m    550\u001b[0m             \u001b[0;32mif\u001b[0m \u001b[0;32mnot\u001b[0m \u001b[0msignaled\u001b[0m\u001b[0;34m:\u001b[0m\u001b[0;34m\u001b[0m\u001b[0m\n\u001b[0;32m--> 551\u001b[0;31m                 \u001b[0msignaled\u001b[0m \u001b[0;34m=\u001b[0m \u001b[0mself\u001b[0m\u001b[0;34m.\u001b[0m\u001b[0m_cond\u001b[0m\u001b[0;34m.\u001b[0m\u001b[0mwait\u001b[0m\u001b[0;34m(\u001b[0m\u001b[0mtimeout\u001b[0m\u001b[0;34m)\u001b[0m\u001b[0;34m\u001b[0m\u001b[0m\n\u001b[0m\u001b[1;32m    552\u001b[0m             \u001b[0;32mreturn\u001b[0m \u001b[0msignaled\u001b[0m\u001b[0;34m\u001b[0m\u001b[0m\n\u001b[1;32m    553\u001b[0m \u001b[0;34m\u001b[0m\u001b[0m\n",
      "\u001b[0;32m~/anaconda3/lib/python3.6/threading.py\u001b[0m in \u001b[0;36mwait\u001b[0;34m(self, timeout)\u001b[0m\n\u001b[1;32m    293\u001b[0m         \u001b[0;32mtry\u001b[0m\u001b[0;34m:\u001b[0m    \u001b[0;31m# restore state no matter what (e.g., KeyboardInterrupt)\u001b[0m\u001b[0;34m\u001b[0m\u001b[0m\n\u001b[1;32m    294\u001b[0m             \u001b[0;32mif\u001b[0m \u001b[0mtimeout\u001b[0m \u001b[0;32mis\u001b[0m \u001b[0;32mNone\u001b[0m\u001b[0;34m:\u001b[0m\u001b[0;34m\u001b[0m\u001b[0m\n\u001b[0;32m--> 295\u001b[0;31m                 \u001b[0mwaiter\u001b[0m\u001b[0;34m.\u001b[0m\u001b[0macquire\u001b[0m\u001b[0;34m(\u001b[0m\u001b[0;34m)\u001b[0m\u001b[0;34m\u001b[0m\u001b[0m\n\u001b[0m\u001b[1;32m    296\u001b[0m                 \u001b[0mgotit\u001b[0m \u001b[0;34m=\u001b[0m \u001b[0;32mTrue\u001b[0m\u001b[0;34m\u001b[0m\u001b[0m\n\u001b[1;32m    297\u001b[0m             \u001b[0;32melse\u001b[0m\u001b[0;34m:\u001b[0m\u001b[0;34m\u001b[0m\u001b[0m\n",
      "\u001b[0;31mKeyboardInterrupt\u001b[0m: "
     ]
    },
    {
     "name": "stderr",
     "output_type": "stream",
     "text": [
      "  File \"/Users/jiwidi/anaconda3/lib/python3.6/multiprocessing/pool.py\", line 108, in worker\n",
      "    task = get()\n",
      "  File \"/Users/jiwidi/anaconda3/lib/python3.6/multiprocessing/pool.py\", line 108, in worker\n",
      "    task = get()\n",
      "  File \"/Users/jiwidi/anaconda3/lib/python3.6/multiprocessing/pool.py\", line 108, in worker\n",
      "    task = get()\n",
      "  File \"/Users/jiwidi/anaconda3/lib/python3.6/multiprocessing/process.py\", line 93, in run\n",
      "    self._target(*self._args, **self._kwargs)\n",
      "  File \"/Users/jiwidi/anaconda3/lib/python3.6/multiprocessing/process.py\", line 93, in run\n",
      "    self._target(*self._args, **self._kwargs)\n",
      "  File \"/Users/jiwidi/anaconda3/lib/python3.6/multiprocessing/queues.py\", line 334, in get\n",
      "    with self._rlock:\n",
      "  File \"/Users/jiwidi/anaconda3/lib/python3.6/multiprocessing/pool.py\", line 108, in worker\n",
      "    task = get()\n",
      "  File \"/Users/jiwidi/anaconda3/lib/python3.6/multiprocessing/pool.py\", line 108, in worker\n",
      "    task = get()\n",
      "  File \"/Users/jiwidi/anaconda3/lib/python3.6/multiprocessing/queues.py\", line 334, in get\n",
      "    with self._rlock:\n",
      "  File \"/Users/jiwidi/anaconda3/lib/python3.6/multiprocessing/queues.py\", line 334, in get\n",
      "    with self._rlock:\n",
      "  File \"/Users/jiwidi/anaconda3/lib/python3.6/multiprocessing/queues.py\", line 334, in get\n",
      "    with self._rlock:\n",
      "  File \"/Users/jiwidi/anaconda3/lib/python3.6/multiprocessing/synchronize.py\", line 96, in __enter__\n",
      "    return self._semlock.__enter__()\n",
      "  File \"/Users/jiwidi/anaconda3/lib/python3.6/multiprocessing/pool.py\", line 119, in worker\n",
      "    result = (True, func(*args, **kwds))\n",
      "  File \"/Users/jiwidi/anaconda3/lib/python3.6/multiprocessing/pool.py\", line 119, in worker\n",
      "    result = (True, func(*args, **kwds))\n",
      "  File \"/Users/jiwidi/anaconda3/lib/python3.6/multiprocessing/queues.py\", line 334, in get\n",
      "    with self._rlock:\n",
      "  File \"/Users/jiwidi/anaconda3/lib/python3.6/multiprocessing/queues.py\", line 335, in get\n",
      "    res = self._reader.recv_bytes()\n",
      "  File \"/Users/jiwidi/anaconda3/lib/python3.6/multiprocessing/synchronize.py\", line 96, in __enter__\n",
      "    return self._semlock.__enter__()\n",
      "  File \"/Users/jiwidi/anaconda3/lib/python3.6/multiprocessing/synchronize.py\", line 96, in __enter__\n",
      "    return self._semlock.__enter__()\n",
      "KeyboardInterrupt\n",
      "  File \"/Users/jiwidi/anaconda3/lib/python3.6/multiprocessing/synchronize.py\", line 96, in __enter__\n",
      "    return self._semlock.__enter__()\n",
      "  File \"/Users/jiwidi/anaconda3/lib/python3.6/multiprocessing/pool.py\", line 44, in mapstar\n",
      "    return list(map(*args))\n",
      "  File \"/Users/jiwidi/anaconda3/lib/python3.6/multiprocessing/synchronize.py\", line 96, in __enter__\n",
      "    return self._semlock.__enter__()\n",
      "  File \"/Users/jiwidi/anaconda3/lib/python3.6/multiprocessing/pool.py\", line 44, in mapstar\n",
      "    return list(map(*args))\n",
      "  File \"/Users/jiwidi/anaconda3/lib/python3.6/multiprocessing/connection.py\", line 216, in recv_bytes\n",
      "    buf = self._recv_bytes(maxlength)\n",
      "KeyboardInterrupt\n",
      "KeyboardInterrupt\n",
      "  File \"<ipython-input-13-99fe7fbf72dd>\", line 18, in downloadFromSrc\n",
      "    image = result.raw.read()\n",
      "KeyboardInterrupt\n",
      "  File \"<ipython-input-13-99fe7fbf72dd>\", line 18, in downloadFromSrc\n",
      "    image = result.raw.read()\n",
      "KeyboardInterrupt\n",
      "  File \"/Users/jiwidi/anaconda3/lib/python3.6/multiprocessing/connection.py\", line 407, in _recv_bytes\n",
      "    buf = self._recv(4)\n",
      "  File \"/Users/jiwidi/anaconda3/lib/python3.6/site-packages/urllib3/response.py\", line 380, in read\n",
      "    data = self._fp.read()\n",
      "  File \"/Users/jiwidi/anaconda3/lib/python3.6/site-packages/urllib3/response.py\", line 380, in read\n",
      "    data = self._fp.read()\n",
      "  File \"/Users/jiwidi/anaconda3/lib/python3.6/multiprocessing/connection.py\", line 379, in _recv\n",
      "    chunk = read(handle, remaining)\n",
      "  File \"/Users/jiwidi/anaconda3/lib/python3.6/http/client.py\", line 462, in read\n",
      "    s = self._safe_read(self.length)\n",
      "  File \"/Users/jiwidi/anaconda3/lib/python3.6/http/client.py\", line 462, in read\n",
      "    s = self._safe_read(self.length)\n",
      "KeyboardInterrupt\n",
      "  File \"/Users/jiwidi/anaconda3/lib/python3.6/http/client.py\", line 612, in _safe_read\n",
      "    chunk = self.fp.read(min(amt, MAXAMOUNT))\n",
      "  File \"/Users/jiwidi/anaconda3/lib/python3.6/http/client.py\", line 612, in _safe_read\n",
      "    chunk = self.fp.read(min(amt, MAXAMOUNT))\n",
      "  File \"/Users/jiwidi/anaconda3/lib/python3.6/socket.py\", line 586, in readinto\n",
      "    return self._sock.recv_into(b)\n",
      "  File \"/Users/jiwidi/anaconda3/lib/python3.6/socket.py\", line 586, in readinto\n",
      "    return self._sock.recv_into(b)\n",
      "  File \"/Users/jiwidi/anaconda3/lib/python3.6/site-packages/urllib3/contrib/pyopenssl.py\", line 280, in recv_into\n",
      "    return self.connection.recv_into(*args, **kwargs)\n",
      "  File \"/Users/jiwidi/anaconda3/lib/python3.6/site-packages/urllib3/contrib/pyopenssl.py\", line 280, in recv_into\n",
      "    return self.connection.recv_into(*args, **kwargs)\n",
      "  File \"/Users/jiwidi/anaconda3/lib/python3.6/site-packages/OpenSSL/SSL.py\", line 1813, in recv_into\n",
      "    result = _lib.SSL_read(self._ssl, buf, nbytes)\n",
      "  File \"/Users/jiwidi/anaconda3/lib/python3.6/site-packages/OpenSSL/SSL.py\", line 1813, in recv_into\n",
      "    result = _lib.SSL_read(self._ssl, buf, nbytes)\n",
      "KeyboardInterrupt\n",
      "KeyboardInterrupt\n"
     ]
    }
   ],
   "source": [
    "import requests\n",
    "import os\n",
    "from multiprocessing import Pool\n",
    "\n",
    "for type in paintType:\n",
    "    if not os.path.exists(type):\n",
    "        os.mkdir(type)\n",
    "\n",
    "def downloadFromSrc(u):\n",
    "    row = df.loc[u]\n",
    "    imgClass = row['paintType'] + '/'\n",
    "    url = row['src']\n",
    "    filename = imgClass+str(u)+'.jpg'\n",
    "    result = requests.get(url, stream=True)\n",
    "    if result.status_code == 200:\n",
    "        if not os.path.exists(imgClass):\n",
    "            os.mkdir(imgClass)\n",
    "        image = result.raw.read()\n",
    "        open(filename,\"wb\").write(image)\n",
    "\n",
    "pool = Pool()\n",
    "pool.map(downloadFromSrc, range(len(df)))         \n"
   ]
  },
  {
   "cell_type": "code",
   "execution_count": 14,
   "metadata": {},
   "outputs": [
    {
     "name": "stdout",
     "output_type": "stream",
     "text": [
      "Images in media_oilpaint: 17918\n",
      "Images in media_3d_graphics: 20360\n",
      "Images in media_pen_ink: 15057\n",
      "Images in media_comic: 22246\n",
      "Images in media_vectorart: 16604\n",
      "Images in media_graphite: 15548\n",
      "Images in media_watercolor: 12766\n"
     ]
    }
   ],
   "source": [
    "for type in paintType:\n",
    "    print(\"Images in {0}: {1}\".format(type,len(os.listdir(type+'/'))))"
   ]
  },
  {
   "cell_type": "code",
   "execution_count": null,
   "metadata": {},
   "outputs": [],
   "source": []
  },
  {
   "cell_type": "code",
   "execution_count": null,
   "metadata": {},
   "outputs": [],
   "source": []
  }
 ],
 "metadata": {
  "kernelspec": {
   "display_name": "Python 3",
   "language": "python",
   "name": "python3"
  },
  "language_info": {
   "codemirror_mode": {
    "name": "ipython",
    "version": 3
   },
   "file_extension": ".py",
   "mimetype": "text/x-python",
   "name": "python",
   "nbconvert_exporter": "python",
   "pygments_lexer": "ipython3",
   "version": "3.6.5"
  }
 },
 "nbformat": 4,
 "nbformat_minor": 2
}
